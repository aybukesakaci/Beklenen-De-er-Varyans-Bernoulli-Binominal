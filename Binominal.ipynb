{
  "nbformat": 4,
  "nbformat_minor": 0,
  "metadata": {
    "colab": {
      "name": "Untitled5.ipynb",
      "version": "0.3.2",
      "provenance": [],
      "include_colab_link": true
    },
    "kernelspec": {
      "name": "python3",
      "display_name": "Python 3"
    }
  },
  "cells": [
    {
      "cell_type": "markdown",
      "metadata": {
        "id": "view-in-github",
        "colab_type": "text"
      },
      "source": [
        "<a href=\"https://colab.research.google.com/github/aybukesakaci/Varyans_Bernoulli_Binominal/blob/master/Binominal.ipynb\" target=\"_parent\"><img src=\"https://colab.research.google.com/assets/colab-badge.svg\" alt=\"Open In Colab\"/></a>"
      ]
    },
    {
      "cell_type": "markdown",
      "metadata": {
        "id": "MLw5UXCi_R3v",
        "colab_type": "text"
      },
      "source": [
        "**Soru:** Metal hilesiz bir para 10 kez atılıyor.\n",
        "\n",
        "a) Bir kez yazı gelme olasılığı nedir?"
      ]
    },
    {
      "cell_type": "markdown",
      "metadata": {
        "id": "sqiRJ2eiA2qq",
        "colab_type": "text"
      },
      "source": [
        "**Cevap:** n kez tekrarlanan bir olay olduğu için binominal olasılık fonksiyonu kullanılarak çözüm yapılabilir.\n",
        "\n",
        "\n",
        "![binominal](https://user-images.githubusercontent.com/10299065/57975540-a1230d00-79d3-11e9-844f-bec31aa7fc9e.JPG)\n",
        "\n",
        "\n"
      ]
    },
    {
      "cell_type": "markdown",
      "metadata": {
        "id": "ceTqmlQ9BkzX",
        "colab_type": "text"
      },
      "source": [
        "**Kod Parçası:** Binominal dağılımın olasılık fonksiyonunu hesaplayan kod parçası aşağıdaki gibidir. n=10 olayın tekrarlanma sayısı, k=1  istenen olayın gelme sayısı, p ve 1-p = 0.5 dir. "
      ]
    },
    {
      "cell_type": "code",
      "metadata": {
        "id": "oQeOxmxOBnk8",
        "colab_type": "code",
        "colab": {
          "base_uri": "https://localhost:8080/",
          "height": 34
        },
        "outputId": "e0accfff-6ec0-490a-ea57-1d2506715a83"
      },
      "source": [
        "import math\n",
        "\n",
        "n=10\n",
        "k=1\n",
        "p=0.5\n",
        "\n",
        "Px=(math.factorial(n)/(math.factorial(k)*math.factorial(n-k)))*(p**k)*((1-p)**(n-k))\n",
        "print('binomial dağılımın olasılık fonksiyonu',Px)"
      ],
      "execution_count": 6,
      "outputs": [
        {
          "output_type": "stream",
          "text": [
            "binomial dağılımın olasılık fonksiyonu 0.009765625\n"
          ],
          "name": "stdout"
        }
      ]
    }
  ]
}