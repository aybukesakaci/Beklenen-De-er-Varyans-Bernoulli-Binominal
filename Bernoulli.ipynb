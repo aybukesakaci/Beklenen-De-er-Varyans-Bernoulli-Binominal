{
  "nbformat": 4,
  "nbformat_minor": 0,
  "metadata": {
    "colab": {
      "name": "Untitled4.ipynb",
      "version": "0.3.2",
      "provenance": [],
      "include_colab_link": true
    },
    "kernelspec": {
      "name": "python3",
      "display_name": "Python 3"
    }
  },
  "cells": [
    {
      "cell_type": "markdown",
      "metadata": {
        "id": "view-in-github",
        "colab_type": "text"
      },
      "source": [
        "<a href=\"https://colab.research.google.com/github/aybukesakaci/Varyans_Bernoulli_Binominal/blob/master/Bernoulli.ipynb\" target=\"_parent\"><img src=\"https://colab.research.google.com/assets/colab-badge.svg\" alt=\"Open In Colab\"/></a>"
      ]
    },
    {
      "cell_type": "markdown",
      "metadata": {
        "id": "hCuDpn5Nu3YT",
        "colab_type": "text"
      },
      "source": [
        "**Soru:** Bir deste iskambilden çekilen bir kağıdın as olup olmaması ile ilgileniyor. As gelmesi başarı\n",
        "olarak ifade edildiği durum için olasılık fonksiyonunu oluşturunuz."
      ]
    },
    {
      "cell_type": "markdown",
      "metadata": {
        "id": "iMTgfOhWvzVb",
        "colab_type": "text"
      },
      "source": [
        "**Cevap:** \n",
        "\n",
        "![bernoulli](https://user-images.githubusercontent.com/10299065/57975071-a9774a00-79cb-11e9-8c36-23b1030f8cbb.JPG)\n",
        "\n",
        "X=1 as gelme durumu 4/52\n",
        "X=0 as gelmemesi durumu 1-(4/52) = 48/52\n",
        "\n",
        "P(X=x)=(4/52)*(48/52) = 0.07100591715976332\n",
        "\n",
        "\n",
        "\n",
        "\n"
      ]
    },
    {
      "cell_type": "markdown",
      "metadata": {
        "id": "oJoVxhZY1vIO",
        "colab_type": "text"
      },
      "source": [
        "**Kod Parçası**: Bernoulli dağılımı olasılık fonk. hesaplayan kod parçası aşağıdaki gibidir."
      ]
    },
    {
      "cell_type": "code",
      "metadata": {
        "id": "BCRf04z40wyF",
        "colab_type": "code",
        "colab": {
          "base_uri": "https://localhost:8080/",
          "height": 34
        },
        "outputId": "3ab67a7d-98f8-44c4-e7fa-536b8e4f4999"
      },
      "source": [
        "deste_sayısı=52\n",
        "as_sayısı=4\n",
        "Px=(as_sayısı/deste_sayısı)*(1-(as_sayısı/deste_sayısı))\n",
        "print('Bernoulli dağılımı olasılık fonksiyonu', Px)"
      ],
      "execution_count": 3,
      "outputs": [
        {
          "output_type": "stream",
          "text": [
            "Bernoulli dağılımı olasılık fonksiyonu 0.07100591715976332\n"
          ],
          "name": "stdout"
        }
      ]
    }
  ]
}