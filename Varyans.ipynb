{
  "nbformat": 4,
  "nbformat_minor": 0,
  "metadata": {
    "colab": {
      "name": "Untitled3.ipynb",
      "version": "0.3.2",
      "provenance": [],
      "include_colab_link": true
    },
    "kernelspec": {
      "name": "python3",
      "display_name": "Python 3"
    }
  },
  "cells": [
    {
      "cell_type": "markdown",
      "metadata": {
        "id": "view-in-github",
        "colab_type": "text"
      },
      "source": [
        "<a href=\"https://colab.research.google.com/github/aybukesakaci/Varyans_Bernoulli_Binominal/blob/master/Varyans.ipynb\" target=\"_parent\"><img src=\"https://colab.research.google.com/assets/colab-badge.svg\" alt=\"Open In Colab\"/></a>"
      ]
    },
    {
      "cell_type": "markdown",
      "metadata": {
        "id": "hhTvm6hTVo5y",
        "colab_type": "text"
      },
      "source": [
        "**Soru**: Olasılık fonksiyonu aşağıdaki dağılıma sahip bir fonksiyon için Beklenen Değer ve Varyansı hesaplayınız."
      ]
    },
    {
      "cell_type": "markdown",
      "metadata": {
        "id": "wb6IXYrycxFz",
        "colab_type": "text"
      },
      "source": [
        "![olasılık](https://user-images.githubusercontent.com/10299065/57974224-75952800-79bd-11e9-9fce-449ab8aa7377.JPG)"
      ]
    },
    {
      "cell_type": "markdown",
      "metadata": {
        "id": "_ynx0wA-di1a",
        "colab_type": "text"
      },
      "source": [
        "**Cevap**: Beklenen değer  rastgele değişkenin değeri ve olma olasılıkları çarpımları toplanarak bulunur. Varyans ise rastegele değişkenin karesinin beklenen değerinden beklenen değerinin karesi çıkartılarak bulunur."
      ]
    },
    {
      "cell_type": "markdown",
      "metadata": {
        "id": "ww8ULqXVc4r1",
        "colab_type": "text"
      },
      "source": [
        "![beklenen](https://user-images.githubusercontent.com/10299065/57974255-eccabc00-79bd-11e9-90de-0db71f8cf33c.JPG)\n"
      ]
    },
    {
      "cell_type": "markdown",
      "metadata": {
        "id": "C7L2TmOmhTfA",
        "colab_type": "text"
      },
      "source": [
        "![varyans](https://user-images.githubusercontent.com/10299065/57974411-416f3680-79c0-11e9-8ffe-9639704385d5.JPG)\n"
      ]
    },
    {
      "cell_type": "markdown",
      "metadata": {
        "id": "peskOdg7n0rV",
        "colab_type": "text"
      },
      "source": [
        "**Kod:** Rastgele değişkenler X1,X2,X3,X4 olarak tanımlanmıştır. Değişkenlerin olasılıkları X_1,X_2,X_3,X_4 değişkenleri ile tanımlanmıştır. Beklenen değer ve Varyans formülleri kullanılarak sonuçlar elde edilmiştir."
      ]
    },
    {
      "cell_type": "code",
      "metadata": {
        "id": "UZ-Pl8WRkr-R",
        "colab_type": "code",
        "outputId": "f076afdc-7bd8-4544-af60-6bcecc000454",
        "colab": {
          "base_uri": "https://localhost:8080/",
          "height": 68
        }
      },
      "source": [
        "X1=1\n",
        "X2=2\n",
        "X3=3\n",
        "X4=4\n",
        "\n",
        "X_1=0.1\n",
        "X_2=0.2\n",
        "X_3=0.3\n",
        "X_4=0.4\n",
        "\n",
        "Ex=X1*X_1+X2*X_2+X3*X_3+X4*X_4\n",
        "print('Beklenen değer:',Ex)\n",
        "\n",
        "Ex2=X1**2*X_1+X2**2*X_2+X3**2*X_3+X4**2*X_4\n",
        "print('Rastgele değişkenin karesinin beklenen değeri:',Ex2)\n",
        "\n",
        "Var=Ex2-Ex**2\n",
        "print('Varyans:',Var)"
      ],
      "execution_count": 2,
      "outputs": [
        {
          "output_type": "stream",
          "text": [
            "Beklenen değer: 3.0\n",
            "Rastgele değişkenin karesinin beklenen değeri: 10.0\n",
            "Varyans: 1.0\n"
          ],
          "name": "stdout"
        }
      ]
    }
  ]
}